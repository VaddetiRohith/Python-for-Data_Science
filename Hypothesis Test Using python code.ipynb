{
 "cells": [
  {
   "cell_type": "code",
   "execution_count": 1,
   "id": "4c34fc52",
   "metadata": {},
   "outputs": [],
   "source": [
    "import pandas as pd\n",
    "import scipy\n",
    "from scipy import stats"
   ]
  },
  {
   "cell_type": "markdown",
   "id": "646a7cbc",
   "metadata": {},
   "source": [
    "# one tail test "
   ]
  },
  {
   "cell_type": "code",
   "execution_count": 2,
   "id": "f1532f73",
   "metadata": {},
   "outputs": [],
   "source": [
    "data = pd.Series([0.593, 0.142, 0.329, 0.691, 0.231, 0.793, 0.519, 0.392, 0.418])"
   ]
  },
  {
   "cell_type": "code",
   "execution_count": 3,
   "id": "77fbadae",
   "metadata": {},
   "outputs": [
    {
     "data": {
      "text/plain": [
       "Ttest_1sampResult(statistic=2.2050588385131595, pvalue=0.05853032968489765)"
      ]
     },
     "execution_count": 3,
     "metadata": {},
     "output_type": "execute_result"
    }
   ],
   "source": [
    "scipy.stats.ttest_1samp(data, 0.3)"
   ]
  },
  {
   "cell_type": "code",
   "execution_count": 4,
   "id": "4669f509",
   "metadata": {},
   "outputs": [
    {
     "data": {
      "text/plain": [
       "0.029265164842448826"
      ]
     },
     "execution_count": 4,
     "metadata": {},
     "output_type": "execute_result"
    }
   ],
   "source": [
    "# This will give two tail results to get one tail result divide with 2\n",
    "\n",
    "s,p = scipy.stats.ttest_1samp(data,0.3)\n",
    "pValue = p /2\n",
    "pValue"
   ]
  },
  {
   "cell_type": "code",
   "execution_count": 9,
   "id": "8a09411b",
   "metadata": {},
   "outputs": [],
   "source": [
    "# P-value is < alpha so we Reject this Ho"
   ]
  },
  {
   "cell_type": "markdown",
   "id": "530127d6",
   "metadata": {},
   "source": [
    "# Two sample t-test"
   ]
  },
  {
   "cell_type": "code",
   "execution_count": 6,
   "id": "dc1e6bd4",
   "metadata": {},
   "outputs": [],
   "source": [
    "Control = pd.Series([91, 87, 99, 77, 88, 91])\n",
    "Treat = pd.Series([101, 110, 103, 93, 99, 104])"
   ]
  },
  {
   "cell_type": "code",
   "execution_count": 7,
   "id": "5a05b9ce",
   "metadata": {},
   "outputs": [
    {
     "data": {
      "text/plain": [
       "Ttest_indResult(statistic=-3.4456126735364876, pvalue=0.006272124350809803)"
      ]
     },
     "execution_count": 7,
     "metadata": {},
     "output_type": "execute_result"
    }
   ],
   "source": [
    "stats.ttest_ind(Control,Treat)"
   ]
  },
  {
   "cell_type": "code",
   "execution_count": 8,
   "id": "fdaee28e",
   "metadata": {},
   "outputs": [],
   "source": [
    "# P - value is < alpha so we reject this Ho"
   ]
  },
  {
   "cell_type": "markdown",
   "id": "101d4d62",
   "metadata": {},
   "source": [
    "# 2 proportion t-test "
   ]
  },
  {
   "cell_type": "code",
   "execution_count": 10,
   "id": "e22c2d0d",
   "metadata": {},
   "outputs": [],
   "source": [
    "import numpy as np"
   ]
  },
  {
   "cell_type": "code",
   "execution_count": 23,
   "id": "0853c87e",
   "metadata": {},
   "outputs": [],
   "source": [
    "n1 = 247\n",
    "p1 = .37\n",
    "\n",
    "n2 = 308\n",
    "p2 = .39"
   ]
  },
  {
   "cell_type": "code",
   "execution_count": 24,
   "id": "b4e0a1ca",
   "metadata": {},
   "outputs": [],
   "source": [
    "population1 = np.random.binomial(1, p1,n1)\n",
    "population2 = np.random.binomial(1, p,n2)"
   ]
  },
  {
   "cell_type": "code",
   "execution_count": 25,
   "id": "2e80265b",
   "metadata": {},
   "outputs": [
    {
     "data": {
      "text/plain": [
       "array([1, 1, 1, 1, 1, 0, 0, 0, 0, 0, 0, 0, 1, 0, 0, 0, 1, 0, 1, 1, 0, 1,\n",
       "       1, 1, 1, 0, 0, 0, 0, 1, 0, 0, 0, 0, 1, 1, 1, 1, 1, 0, 0, 1, 0, 0,\n",
       "       0, 1, 0, 0, 0, 0, 0, 1, 0, 1, 1, 1, 0, 1, 0, 1, 0, 1, 1, 0, 1, 0,\n",
       "       0, 0, 0, 0, 0, 0, 0, 1, 1, 1, 0, 1, 1, 0, 0, 0, 1, 1, 0, 0, 0, 1,\n",
       "       1, 1, 1, 0, 0, 0, 1, 1, 1, 0, 0, 1, 0, 0, 0, 0, 1, 0, 0, 0, 0, 0,\n",
       "       0, 1, 1, 1, 1, 0, 0, 1, 0, 0, 1, 1, 0, 1, 1, 1, 1, 0, 0, 1, 1, 0,\n",
       "       1, 0, 1, 0, 0, 0, 1, 0, 1, 1, 1, 1, 0, 0, 0, 0, 0, 0, 0, 0, 0, 0,\n",
       "       0, 0, 0, 1, 1, 0, 0, 0, 1, 0, 1, 0, 0, 1, 0, 0, 1, 0, 0, 0, 1, 0,\n",
       "       0, 0, 1, 1, 0, 0, 1, 0, 1, 0, 1, 0, 0, 0, 1, 0, 0, 0, 0, 1, 0, 1,\n",
       "       1, 1, 1, 0, 0, 1, 1, 1, 0, 0, 0, 0, 1, 0, 1, 1, 0, 1, 0, 0, 0, 0,\n",
       "       1, 1, 0, 1, 0, 1, 1, 0, 1, 0, 1, 1, 0, 1, 1, 1, 1, 0, 0, 1, 0, 1,\n",
       "       0, 1, 1, 0, 1])"
      ]
     },
     "execution_count": 25,
     "metadata": {},
     "output_type": "execute_result"
    }
   ],
   "source": [
    "population1"
   ]
  },
  {
   "cell_type": "code",
   "execution_count": 26,
   "id": "7fdbb1ad",
   "metadata": {},
   "outputs": [
    {
     "data": {
      "text/plain": [
       "0.43724696356275305"
      ]
     },
     "execution_count": 26,
     "metadata": {},
     "output_type": "execute_result"
    }
   ],
   "source": [
    "population1.mean()"
   ]
  },
  {
   "cell_type": "code",
   "execution_count": 27,
   "id": "b0195b6f",
   "metadata": {},
   "outputs": [
    {
     "data": {
      "text/plain": [
       "0.06818181818181818"
      ]
     },
     "execution_count": 27,
     "metadata": {},
     "output_type": "execute_result"
    }
   ],
   "source": [
    "population2.mean()"
   ]
  },
  {
   "cell_type": "code",
   "execution_count": 28,
   "id": "cf681c27",
   "metadata": {},
   "outputs": [
    {
     "data": {
      "text/plain": [
       "(11.336060001709255, 6.2868819157118286e-27, 553.0)"
      ]
     },
     "execution_count": 28,
     "metadata": {},
     "output_type": "execute_result"
    }
   ],
   "source": [
    "import statsmodels.api as sm\n",
    "sm.stats.ttest_ind(population1, population2)"
   ]
  }
 ],
 "metadata": {
  "kernelspec": {
   "display_name": "Python 3 (ipykernel)",
   "language": "python",
   "name": "python3"
  },
  "language_info": {
   "codemirror_mode": {
    "name": "ipython",
    "version": 3
   },
   "file_extension": ".py",
   "mimetype": "text/x-python",
   "name": "python",
   "nbconvert_exporter": "python",
   "pygments_lexer": "ipython3",
   "version": "3.9.13"
  }
 },
 "nbformat": 4,
 "nbformat_minor": 5
}
